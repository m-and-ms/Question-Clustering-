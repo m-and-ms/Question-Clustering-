{
  "nbformat": 4,
  "nbformat_minor": 0,
  "metadata": {
    "colab": {
      "name": "glove_clustering.ipynb",
      "provenance": [],
      "private_outputs": true,
      "collapsed_sections": [],
      "authorship_tag": "ABX9TyMmcwOBVlC+CsLewVY5yPBY",
      "include_colab_link": true
    },
    "kernelspec": {
      "name": "python3",
      "display_name": "Python 3"
    }
  },
  "cells": [
    {
      "cell_type": "markdown",
      "metadata": {
        "id": "view-in-github",
        "colab_type": "text"
      },
      "source": [
        "<a href=\"https://colab.research.google.com/github/m-and-ms/Question-Clustering-/blob/master/glove_clustering.ipynb\" target=\"_parent\"><img src=\"https://colab.research.google.com/assets/colab-badge.svg\" alt=\"Open In Colab\"/></a>"
      ]
    },
    {
      "cell_type": "code",
      "metadata": {
        "id": "llfKasLG5WIT",
        "colab_type": "code",
        "colab": {}
      },
      "source": [
        "import pandas as pd\n",
        "import numpy as np\n",
        "import matplotlib.pyplot as plt\n"
      ],
      "execution_count": 0,
      "outputs": []
    },
    {
      "cell_type": "code",
      "metadata": {
        "id": "JSu6_9KUDz-u",
        "colab_type": "code",
        "colab": {}
      },
      "source": [
        "Q_df=pd.read_json (r'WebQSP.train.json')\n"
      ],
      "execution_count": 0,
      "outputs": []
    },
    {
      "cell_type": "code",
      "metadata": {
        "id": "8bPvQqzCEJ5F",
        "colab_type": "code",
        "colab": {}
      },
      "source": [
        "Q_df"
      ],
      "execution_count": 0,
      "outputs": []
    },
    {
      "cell_type": "code",
      "metadata": {
        "id": "nZvSI_2_EUa0",
        "colab_type": "code",
        "colab": {}
      },
      "source": [
        "Q_df.columns"
      ],
      "execution_count": 0,
      "outputs": []
    },
    {
      "cell_type": "code",
      "metadata": {
        "id": "lFnhv2B7Er3t",
        "colab_type": "code",
        "colab": {}
      },
      "source": [
        "Q_df['Questions'][1]['ProcessedQuestion']"
      ],
      "execution_count": 0,
      "outputs": []
    },
    {
      "cell_type": "code",
      "metadata": {
        "id": "okz7v0zdGHCE",
        "colab_type": "code",
        "colab": {}
      },
      "source": [
        "num_questions=len(Q_df['Questions'])"
      ],
      "execution_count": 0,
      "outputs": []
    },
    {
      "cell_type": "code",
      "metadata": {
        "id": "gNMiQxyAFUlz",
        "colab_type": "code",
        "colab": {}
      },
      "source": [
        "data_sentences=[Q_df['Questions'][idx]['ProcessedQuestion'] for idx in range(num_questions) ]"
      ],
      "execution_count": 0,
      "outputs": []
    },
    {
      "cell_type": "code",
      "metadata": {
        "id": "L0WBnEqmGYRR",
        "colab_type": "code",
        "colab": {}
      },
      "source": [
        "len(data_sentences)"
      ],
      "execution_count": 0,
      "outputs": []
    },
    {
      "cell_type": "code",
      "metadata": {
        "colab_type": "code",
        "id": "U0fXkReBns_N",
        "colab": {}
      },
      "source": [
        "\n",
        "from nltk import *\n",
        "from nltk.corpus import stopwords \n",
        "stemmer = nltk.stem.porter.PorterStemmer()\n",
        "\n",
        "nltk.download('stopwords')"
      ],
      "execution_count": 0,
      "outputs": []
    },
    {
      "cell_type": "code",
      "metadata": {
        "id": "Rr_1r8lXNp7R",
        "colab_type": "code",
        "colab": {}
      },
      "source": [
        "stop_words = set(stopwords.words('english')) \n"
      ],
      "execution_count": 0,
      "outputs": []
    },
    {
      "cell_type": "code",
      "metadata": {
        "id": "wEgExpwPLr7w",
        "colab_type": "code",
        "colab": {}
      },
      "source": [
        "def tokenize_and_stem(text):\n",
        "    tokens = nltk.word_tokenize(text)\n",
        "    print(tokens)\n",
        "    filtered_tokens = []\n",
        "    # filter out any tokens not containing letters (e.g., numeric tokens, raw punctuation)\n",
        "    for token in tokens:\n",
        "        if re.search('[a-zA-Z]', token) and len(token) >= 3 :\n",
        "            print(token)\n",
        "            filtered_tokens.append(token)\n",
        "    #stems = [stemmer.stem(t) for t in filtered_tokens]\n",
        "    words = [w.lower() for w in filtered_tokens if not w in stop_words]\n",
        "    return words"
      ],
      "execution_count": 0,
      "outputs": []
    },
    {
      "cell_type": "code",
      "metadata": {
        "id": "qb_0qVrfL4ak",
        "colab_type": "code",
        "colab": {}
      },
      "source": [
        "data_tokens=[]\n",
        "for sent in data_sentences:\n",
        "  data_tokens.append( tokenize_and_stem(sent))"
      ],
      "execution_count": 0,
      "outputs": []
    },
    {
      "cell_type": "code",
      "metadata": {
        "id": "4P6lC_sYN7z2",
        "colab_type": "code",
        "colab": {}
      },
      "source": [
        "data_tokens"
      ],
      "execution_count": 0,
      "outputs": []
    },
    {
      "cell_type": "code",
      "metadata": {
        "id": "MfX5uU9eGcwr",
        "colab_type": "code",
        "colab": {}
      },
      "source": [
        "def read_glove(file_name):\n",
        "    with open(file_name,'r') as f:\n",
        "        word_vocab = set() \n",
        "        word2vector = {}\n",
        "        for line in f:\n",
        "            line_ = line.strip() \n",
        "            words_Vec = line_.split()\n",
        "            word_vocab.add(words_Vec[0])\n",
        "            word2vector[words_Vec[0]] = np.array(words_Vec[1:],dtype=float)\n",
        "    print(\"Total Words in DataSet:\",len(word_vocab))\n",
        "    return word_vocab,word2vector"
      ],
      "execution_count": 0,
      "outputs": []
    },
    {
      "cell_type": "code",
      "metadata": {
        "id": "FkEq4I7UHK3c",
        "colab_type": "code",
        "colab": {}
      },
      "source": [
        "vocab, w2v = read_glove(\"glove.6B.300d.txt\")\n"
      ],
      "execution_count": 0,
      "outputs": []
    },
    {
      "cell_type": "code",
      "metadata": {
        "id": "ziUQGlzQrjYu",
        "colab_type": "code",
        "colab": {}
      },
      "source": [
        "print (w2v['animal'].shape)"
      ],
      "execution_count": 0,
      "outputs": []
    },
    {
      "cell_type": "code",
      "metadata": {
        "id": "QgoXqL-KWVCG",
        "colab_type": "code",
        "colab": {}
      },
      "source": [
        "def word_average(sentence, embed,vocab):\n",
        "    sent_vec =[]\n",
        "    nwords = 0\n",
        "    for word in sentence:\n",
        "      if nwords == 0:\n",
        "        if(word in vocab):\n",
        "          sent_vec = embed[word]\n",
        "        else:\n",
        "          sent_vec = np.random.rand(300,)\n",
        "      else:\n",
        "        if(word in vocab):\n",
        "          sent_vec = np.add(sent_vec, embed[word])\n",
        "        else:\n",
        "          sent_vec=np.add(sent_vec,np.random.rand(300,)) \n",
        "      nwords+=1\n",
        "   \n",
        "    return np.asarray(sent_vec) / nwords"
      ],
      "execution_count": 0,
      "outputs": []
    },
    {
      "cell_type": "code",
      "metadata": {
        "id": "-l6Lxh_DfQxv",
        "colab_type": "code",
        "colab": {}
      },
      "source": [
        "sent_represent=[]\n",
        "for sents in data_tokens :\n",
        "\n",
        "  sent_represent.append(word_average(sents,w2v,vocab))\n"
      ],
      "execution_count": 0,
      "outputs": []
    },
    {
      "cell_type": "code",
      "metadata": {
        "id": "c-Np7d2oipK0",
        "colab_type": "code",
        "colab": {}
      },
      "source": [
        "from sklearn.cluster import AgglomerativeClustering\n"
      ],
      "execution_count": 0,
      "outputs": []
    },
    {
      "cell_type": "code",
      "metadata": {
        "id": "ZrfF8soKquc1",
        "colab_type": "code",
        "colab": {}
      },
      "source": [
        "cluster = AgglomerativeClustering(n_clusters=2, affinity='euclidean', linkage='ward')\n"
      ],
      "execution_count": 0,
      "outputs": []
    },
    {
      "cell_type": "code",
      "metadata": {
        "id": "n3dNdMhOtM6T",
        "colab_type": "code",
        "colab": {}
      },
      "source": [
        "cluster.fit(sent_represent)"
      ],
      "execution_count": 0,
      "outputs": []
    },
    {
      "cell_type": "code",
      "metadata": {
        "id": "LBQjlA0ptU6V",
        "colab_type": "code",
        "colab": {}
      },
      "source": [
        "labels = cluster.labels_\n",
        "\n"
      ],
      "execution_count": 0,
      "outputs": []
    },
    {
      "cell_type": "code",
      "metadata": {
        "id": "SaDj7kfcvCY6",
        "colab_type": "code",
        "colab": {}
      },
      "source": [
        "print(labels)"
      ],
      "execution_count": 0,
      "outputs": []
    },
    {
      "cell_type": "code",
      "metadata": {
        "id": "RJgInurb30l_",
        "colab_type": "code",
        "colab": {}
      },
      "source": [
        "cluster.fit_predict(sent_represent)"
      ],
      "execution_count": 0,
      "outputs": []
    },
    {
      "cell_type": "code",
      "metadata": {
        "id": "QE1SDti0wJSI",
        "colab_type": "code",
        "colab": {}
      },
      "source": [
        "import matplotlib.pyplot as plt\n",
        " \n",
        "from sklearn.manifold import TSNE"
      ],
      "execution_count": 0,
      "outputs": []
    },
    {
      "cell_type": "code",
      "metadata": {
        "id": "crcDWYYjwSP0",
        "colab_type": "code",
        "colab": {}
      },
      "source": [
        "model = TSNE(n_components=2, random_state=1,metric='euclidean', n_iter=15000)\n"
      ],
      "execution_count": 0,
      "outputs": []
    },
    {
      "cell_type": "code",
      "metadata": {
        "id": "ugoKZ-rWwgbS",
        "colab_type": "code",
        "colab": {}
      },
      "source": [
        "Y=model.fit_transform(sent_represent)\n"
      ],
      "execution_count": 0,
      "outputs": []
    },
    {
      "cell_type": "code",
      "metadata": {
        "id": "DEsdoijkwXpJ",
        "colab_type": "code",
        "colab": {}
      },
      "source": [
        "plt.scatter(Y[:, 0], Y[:, 1], c=labels)"
      ],
      "execution_count": 0,
      "outputs": []
    },
    {
      "cell_type": "code",
      "metadata": {
        "id": "WOKRkqtpe2oR",
        "colab_type": "code",
        "colab": {}
      },
      "source": [
        "import scipy.cluster.hierarchy as shc\n",
        "\n",
        "plt.figure(figsize=(10, 7))\n",
        "plt.title(\"Data Dendograms\")\n",
        "dend = shc.dendrogram(shc.linkage(np.asarray(sent_represent), method='ward'))"
      ],
      "execution_count": 0,
      "outputs": []
    },
    {
      "cell_type": "code",
      "metadata": {
        "id": "nmFO8jS0Dm6Z",
        "colab_type": "code",
        "colab": {}
      },
      "source": [
        "from sklearn.cluster import KMeans"
      ],
      "execution_count": 0,
      "outputs": []
    },
    {
      "cell_type": "code",
      "metadata": {
        "id": "yhvG4t31DpQP",
        "colab_type": "code",
        "colab": {}
      },
      "source": [
        "kmeans = KMeans(n_clusters=2, random_state=0)\n",
        "km_tf=kmeans.fit_transform(sent_represent)\n",
        "kmeans.labels_\n"
      ],
      "execution_count": 0,
      "outputs": []
    },
    {
      "cell_type": "code",
      "metadata": {
        "id": "352gpJRWD0ge",
        "colab_type": "code",
        "colab": {}
      },
      "source": [
        "kmeans.cluster_centers_.shape\n"
      ],
      "execution_count": 0,
      "outputs": []
    },
    {
      "cell_type": "code",
      "metadata": {
        "id": "EKUOBsBpw4yE",
        "colab_type": "code",
        "colab": {}
      },
      "source": [
        "type1_occurrences = np.count_nonzero(kmeans.labels_ == 1)"
      ],
      "execution_count": 0,
      "outputs": []
    },
    {
      "cell_type": "code",
      "metadata": {
        "id": "M12XYAxxyDc8",
        "colab_type": "code",
        "colab": {}
      },
      "source": [
        "type2_occurences=np.count_nonzero(kmeans.labels_ == 0)"
      ],
      "execution_count": 0,
      "outputs": []
    },
    {
      "cell_type": "code",
      "metadata": {
        "id": "ouM53QInyqUJ",
        "colab_type": "code",
        "colab": {}
      },
      "source": [
        "total_occurances=len(kmeans.labels_)"
      ],
      "execution_count": 0,
      "outputs": []
    },
    {
      "cell_type": "code",
      "metadata": {
        "id": "cRbDjY-Pygsn",
        "colab_type": "code",
        "colab": {}
      },
      "source": [
        "print(\"Type1 percentage\",(type1_occurrences/total_occurances)*100 ,\"Type2 percentage \",(type2_occurences/total_occurances)*100 )"
      ],
      "execution_count": 0,
      "outputs": []
    },
    {
      "cell_type": "code",
      "metadata": {
        "id": "8b4cPMnZ0IdT",
        "colab_type": "code",
        "colab": {}
      },
      "source": [
        "print(\"Type1 count\",(type1_occurrences) ,\"Type2 count \",(type2_occurences))"
      ],
      "execution_count": 0,
      "outputs": []
    },
    {
      "cell_type": "code",
      "metadata": {
        "id": "vxAjuLvhAGFd",
        "colab_type": "code",
        "colab": {}
      },
      "source": [
        "km_tf.shape"
      ],
      "execution_count": 0,
      "outputs": []
    },
    {
      "cell_type": "code",
      "metadata": {
        "id": "JD4HSpT2-aqq",
        "colab_type": "code",
        "colab": {}
      },
      "source": [
        "plt.scatter(km_tf[:,0],km_tf[:,1],c=kmeans.labels_,marker='X')"
      ],
      "execution_count": 0,
      "outputs": []
    },
    {
      "cell_type": "code",
      "metadata": {
        "id": "0-MM6qVgEL1N",
        "colab_type": "code",
        "colab": {}
      },
      "source": [
        "from sklearn.cluster import KMeans \n",
        "from sklearn import metrics \n",
        "from scipy.spatial.distance import cdist "
      ],
      "execution_count": 0,
      "outputs": []
    },
    {
      "cell_type": "code",
      "metadata": {
        "id": "4NU3rdJ4MAON",
        "colab_type": "code",
        "colab": {}
      },
      "source": [
        "distortions = [] \n",
        "inertias = [] \n",
        "mapping1 = {} \n",
        "mapping2 = {} \n",
        "K = range(1,10) \n",
        "  \n",
        "for k in K: \n",
        "    #Building and fitting the model \n",
        "    kmeanModel = KMeans(n_clusters=k).fit(sent_represent) \n",
        "    kmeanModel.fit(sent_represent)     \n",
        "      \n",
        "    distortions.append(sum(np.min(cdist(sent_represent, kmeanModel.cluster_centers_, \n",
        "                      'euclidean'),axis=1)) / np.asarray(sent_represent).shape[0]) \n",
        "    inertias.append(kmeanModel.inertia_) \n",
        "  \n",
        "    mapping1[k] = sum(np.min(cdist(sent_represent, kmeanModel.cluster_centers_, \n",
        "                 'euclidean'),axis=1)) / np.asarray( sent_represent).shape[0] \n",
        "    mapping2[k] = kmeanModel.inertia_ "
      ],
      "execution_count": 0,
      "outputs": []
    },
    {
      "cell_type": "code",
      "metadata": {
        "id": "gcM2RsbFOZtB",
        "colab_type": "code",
        "colab": {}
      },
      "source": [
        "plt.plot(K, distortions, 'bx-') \n",
        "plt.xlabel('Values of K') \n",
        "plt.ylabel('Distortion') \n",
        "plt.title('The Elbow Method using Distortion') \n",
        "plt.show() "
      ],
      "execution_count": 0,
      "outputs": []
    },
    {
      "cell_type": "code",
      "metadata": {
        "id": "eJdXxbrC-VKm",
        "colab_type": "code",
        "colab": {}
      },
      "source": [
        "from sklearn import decomposition\n",
        "import matplotlib \n",
        "pca = decomposition.PCA(n_components=2).fit(sent_represent)\n",
        "colors = ['blue','purple']\n",
        "\n",
        "colors_cluster=['red','green','yellow'] \n",
        "label_colors=[colors_cluster[i] for i in kmeans.labels_]\n",
        "coords=pca.transform(sent_represent)\n",
        "\n",
        "plt.scatter(coords[:,0],coords[:,1],c=label_colors)\n",
        "\n",
        "centroids=kmeans.cluster_centers_\n",
        "centroidcoords=pca.transform(centroids)\n",
        "plt.scatter(centroidcoords[:,0],centroidcoords[:,1],marker='X', cmap=matplotlib.colors.ListedColormap(colors))\n",
        "plt.show()"
      ],
      "execution_count": 0,
      "outputs": []
    }
  ]
}