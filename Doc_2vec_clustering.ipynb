{
  "nbformat": 4,
  "nbformat_minor": 0,
  "metadata": {
    "colab": {
      "name": "Doc_2vec_clustering.ipynb",
      "provenance": [],
      "private_outputs": true,
      "collapsed_sections": [],
      "authorship_tag": "ABX9TyOBWAiW9qCsfi8T1vyTb76V",
      "include_colab_link": true
    },
    "kernelspec": {
      "name": "python3",
      "display_name": "Python 3"
    }
  },
  "cells": [
    {
      "cell_type": "markdown",
      "metadata": {
        "id": "view-in-github",
        "colab_type": "text"
      },
      "source": [
        "<a href=\"https://colab.research.google.com/github/m-and-ms/Question-Clustering-/blob/master/Doc_2vec_clustering.ipynb\" target=\"_parent\"><img src=\"https://colab.research.google.com/assets/colab-badge.svg\" alt=\"Open In Colab\"/></a>"
      ]
    },
    {
      "cell_type": "code",
      "metadata": {
        "id": "3mX__7o3bJqR",
        "colab_type": "code",
        "colab": {}
      },
      "source": [
        "import numpy as np\n",
        "import matplotlib.pyplot as plt\n"
      ],
      "execution_count": 0,
      "outputs": []
    },
    {
      "cell_type": "code",
      "metadata": {
        "id": "llfKasLG5WIT",
        "colab_type": "code",
        "colab": {}
      },
      "source": [
        "import pandas as pd"
      ],
      "execution_count": 0,
      "outputs": []
    },
    {
      "cell_type": "code",
      "metadata": {
        "id": "C13G1Nia9ALZ",
        "colab_type": "code",
        "colab": {}
      },
      "source": [
        "from gensim.test.utils import common_texts\n",
        "from gensim.models.doc2vec import Doc2Vec, TaggedDocument"
      ],
      "execution_count": 0,
      "outputs": []
    },
    {
      "cell_type": "code",
      "metadata": {
        "id": "JSu6_9KUDz-u",
        "colab_type": "code",
        "colab": {}
      },
      "source": [
        "Q_df=pd.read_json (r'WebQSP.train.json')\n"
      ],
      "execution_count": 0,
      "outputs": []
    },
    {
      "cell_type": "code",
      "metadata": {
        "id": "8bPvQqzCEJ5F",
        "colab_type": "code",
        "colab": {}
      },
      "source": [
        "Q_df"
      ],
      "execution_count": 0,
      "outputs": []
    },
    {
      "cell_type": "code",
      "metadata": {
        "id": "nZvSI_2_EUa0",
        "colab_type": "code",
        "colab": {}
      },
      "source": [
        "Q_df.columns"
      ],
      "execution_count": 0,
      "outputs": []
    },
    {
      "cell_type": "code",
      "metadata": {
        "id": "lFnhv2B7Er3t",
        "colab_type": "code",
        "colab": {}
      },
      "source": [
        "Q_df['Questions'][1]['ProcessedQuestion']"
      ],
      "execution_count": 0,
      "outputs": []
    },
    {
      "cell_type": "code",
      "metadata": {
        "id": "okz7v0zdGHCE",
        "colab_type": "code",
        "colab": {}
      },
      "source": [
        "num_questions=len(Q_df['Questions'])"
      ],
      "execution_count": 0,
      "outputs": []
    },
    {
      "cell_type": "code",
      "metadata": {
        "id": "gNMiQxyAFUlz",
        "colab_type": "code",
        "colab": {}
      },
      "source": [
        "Sentences_Data=[Q_df['Questions'][idx]['ProcessedQuestion'] for idx in range(num_questions) ]"
      ],
      "execution_count": 0,
      "outputs": []
    },
    {
      "cell_type": "code",
      "metadata": {
        "id": "L0WBnEqmGYRR",
        "colab_type": "code",
        "colab": {}
      },
      "source": [
        "len(Sentences_Data)"
      ],
      "execution_count": 0,
      "outputs": []
    },
    {
      "cell_type": "code",
      "metadata": {
        "id": "e7Chi_0tKdvR",
        "colab_type": "code",
        "colab": {}
      },
      "source": [
        "Sentences_Data"
      ],
      "execution_count": 0,
      "outputs": []
    },
    {
      "cell_type": "code",
      "metadata": {
        "id": "GEgSzLQ-Kr_4",
        "colab_type": "code",
        "colab": {}
      },
      "source": [
        "import re , nltk, pprint"
      ],
      "execution_count": 0,
      "outputs": []
    },
    {
      "cell_type": "code",
      "metadata": {
        "id": "hpvf-4mGLuky",
        "colab_type": "code",
        "colab": {}
      },
      "source": [
        "nltk.download('punkt')\n",
        "nltk.download('stopwords')\n",
        "nltk.download('wordnet')\n",
        "nltk.download('averaged_perceptron_tagger')"
      ],
      "execution_count": 0,
      "outputs": []
    },
    {
      "cell_type": "code",
      "metadata": {
        "colab_type": "code",
        "id": "U0fXkReBns_N",
        "colab": {}
      },
      "source": [
        "\n",
        "from nltk import *\n",
        "from nltk.corpus import stopwords \n",
        "stemmer = nltk.stem.porter.PorterStemmer()\n",
        "\n",
        "nltk.download('stopwords')"
      ],
      "execution_count": 0,
      "outputs": []
    },
    {
      "cell_type": "code",
      "metadata": {
        "id": "Rr_1r8lXNp7R",
        "colab_type": "code",
        "colab": {}
      },
      "source": [
        "stop_words = set(stopwords.words('english')) \n"
      ],
      "execution_count": 0,
      "outputs": []
    },
    {
      "cell_type": "code",
      "metadata": {
        "id": "wEgExpwPLr7w",
        "colab_type": "code",
        "colab": {}
      },
      "source": [
        "def tokenize_and_stem(text):\n",
        "    tokens = nltk.word_tokenize(text)\n",
        "    print(tokens)\n",
        "    filtered_tokens = []\n",
        "    # filter out any tokens not containing letters (e.g., numeric tokens, raw punctuation)\n",
        "    for token in tokens:\n",
        "        if re.search('[a-zA-Z]', token) and len(token) >= 3 :\n",
        "            print(token)\n",
        "            filtered_tokens.append(token)\n",
        "    #stems = [stemmer.stem(t) for t in filtered_tokens]\n",
        "    words = [w.lower() for w in filtered_tokens if not w in stop_words]\n",
        "    return words"
      ],
      "execution_count": 0,
      "outputs": []
    },
    {
      "cell_type": "code",
      "metadata": {
        "id": "qb_0qVrfL4ak",
        "colab_type": "code",
        "colab": {}
      },
      "source": [
        "data_tokens=[]\n",
        "for sent in Sentences_Data:\n",
        "  data_tokens.append( tokenize_and_stem(sent))"
      ],
      "execution_count": 0,
      "outputs": []
    },
    {
      "cell_type": "code",
      "metadata": {
        "id": "pZtPjSh2n5_f",
        "colab_type": "code",
        "colab": {}
      },
      "source": [
        "documents = [TaggedDocument(doc, [i]) for i, doc in enumerate(data_tokens)]"
      ],
      "execution_count": 0,
      "outputs": []
    },
    {
      "cell_type": "code",
      "metadata": {
        "id": "nOnFO2_oqpim",
        "colab_type": "code",
        "colab": {}
      },
      "source": [
        "print(documents)"
      ],
      "execution_count": 0,
      "outputs": []
    },
    {
      "cell_type": "code",
      "metadata": {
        "id": "CHIVKFUGdD65",
        "colab_type": "code",
        "colab": {}
      },
      "source": [
        "model = Doc2Vec(documents ,dm = 1, min_count=1, window=10, size=150, sample=1e-4, negative=10)\n"
      ],
      "execution_count": 0,
      "outputs": []
    },
    {
      "cell_type": "code",
      "metadata": {
        "id": "rMLrvJGZwaBX",
        "colab_type": "code",
        "colab": {}
      },
      "source": [
        "model.train(documents=documents,epochs=20,total_examples= len(documents))\n"
      ],
      "execution_count": 0,
      "outputs": []
    },
    {
      "cell_type": "code",
      "metadata": {
        "id": "gxOtxeohzc9h",
        "colab_type": "code",
        "colab": {}
      },
      "source": [
        "vector = model.infer_vector([\"what\",\"justin\"])\n",
        "print(vector.shape)"
      ],
      "execution_count": 0,
      "outputs": []
    },
    {
      "cell_type": "code",
      "metadata": {
        "id": "ZI3qGNLLzHBv",
        "colab_type": "code",
        "colab": {}
      },
      "source": [
        "vector = model.infer_vector(\"what\")\n",
        "print(vector.shape)"
      ],
      "execution_count": 0,
      "outputs": []
    },
    {
      "cell_type": "code",
      "metadata": {
        "id": "-l6Lxh_DfQxv",
        "colab_type": "code",
        "colab": {}
      },
      "source": [
        "sent_represent=[]\n",
        "for sents in data_tokens :\n",
        "\n",
        "  sent_represent.append(model.infer_vector(sents))\n"
      ],
      "execution_count": 0,
      "outputs": []
    },
    {
      "cell_type": "code",
      "metadata": {
        "id": "7gE2QfM8z4I2",
        "colab_type": "code",
        "colab": {}
      },
      "source": [
        "len(sent_represent),sent_represent[0].shape"
      ],
      "execution_count": 0,
      "outputs": []
    },
    {
      "cell_type": "code",
      "metadata": {
        "id": "c-Np7d2oipK0",
        "colab_type": "code",
        "colab": {}
      },
      "source": [
        "from sklearn.cluster import AgglomerativeClustering\n"
      ],
      "execution_count": 0,
      "outputs": []
    },
    {
      "cell_type": "code",
      "metadata": {
        "id": "ZrfF8soKquc1",
        "colab_type": "code",
        "colab": {}
      },
      "source": [
        "cluster = AgglomerativeClustering(n_clusters=2, affinity='euclidean', linkage='ward')\n"
      ],
      "execution_count": 0,
      "outputs": []
    },
    {
      "cell_type": "code",
      "metadata": {
        "id": "n3dNdMhOtM6T",
        "colab_type": "code",
        "colab": {}
      },
      "source": [
        "cluster.fit(sent_represent)"
      ],
      "execution_count": 0,
      "outputs": []
    },
    {
      "cell_type": "code",
      "metadata": {
        "id": "LBQjlA0ptU6V",
        "colab_type": "code",
        "colab": {}
      },
      "source": [
        "labels = cluster.labels_\n",
        "\n"
      ],
      "execution_count": 0,
      "outputs": []
    },
    {
      "cell_type": "code",
      "metadata": {
        "id": "SaDj7kfcvCY6",
        "colab_type": "code",
        "colab": {}
      },
      "source": [
        "print(labels)"
      ],
      "execution_count": 0,
      "outputs": []
    },
    {
      "cell_type": "code",
      "metadata": {
        "id": "RJgInurb30l_",
        "colab_type": "code",
        "colab": {}
      },
      "source": [
        "cluster.fit_predict(sent_represent)"
      ],
      "execution_count": 0,
      "outputs": []
    },
    {
      "cell_type": "code",
      "metadata": {
        "id": "QE1SDti0wJSI",
        "colab_type": "code",
        "colab": {}
      },
      "source": [
        "import matplotlib.pyplot as plt\n",
        " \n",
        "from sklearn.manifold import TSNE"
      ],
      "execution_count": 0,
      "outputs": []
    },
    {
      "cell_type": "code",
      "metadata": {
        "id": "crcDWYYjwSP0",
        "colab_type": "code",
        "colab": {}
      },
      "source": [
        "model = TSNE(n_components=2, random_state=1,metric='euclidean', n_iter=1000)\n"
      ],
      "execution_count": 0,
      "outputs": []
    },
    {
      "cell_type": "code",
      "metadata": {
        "id": "ugoKZ-rWwgbS",
        "colab_type": "code",
        "colab": {}
      },
      "source": [
        "Y=model.fit_transform(sent_represent)\n"
      ],
      "execution_count": 0,
      "outputs": []
    },
    {
      "cell_type": "code",
      "metadata": {
        "id": "DEsdoijkwXpJ",
        "colab_type": "code",
        "colab": {}
      },
      "source": [
        "plt.scatter(Y[:, 0], Y[:, 1], c=labels)"
      ],
      "execution_count": 0,
      "outputs": []
    },
    {
      "cell_type": "code",
      "metadata": {
        "id": "p2fpB6PZ1Zql",
        "colab_type": "code",
        "colab": {}
      },
      "source": [
        "for j in range(len(Sentences_Data)):    \n",
        "   print (\"%s %s\" % (labels[j],  Sentences_Data[j]))"
      ],
      "execution_count": 0,
      "outputs": []
    },
    {
      "cell_type": "code",
      "metadata": {
        "id": "0-MM6qVgEL1N",
        "colab_type": "code",
        "colab": {}
      },
      "source": [
        "from sklearn.cluster import KMeans \n",
        "from sklearn import metrics \n",
        "from scipy.spatial.distance import cdist "
      ],
      "execution_count": 0,
      "outputs": []
    },
    {
      "cell_type": "code",
      "metadata": {
        "id": "yhvG4t31DpQP",
        "colab_type": "code",
        "colab": {}
      },
      "source": [
        "kmeans = KMeans(n_clusters=2, random_state=0)\n",
        "km_tf=kmeans.fit_transform(sent_represent)\n",
        "kmeans.labels_"
      ],
      "execution_count": 0,
      "outputs": []
    },
    {
      "cell_type": "code",
      "metadata": {
        "id": "EKUOBsBpw4yE",
        "colab_type": "code",
        "colab": {}
      },
      "source": [
        "type1_occurrences = np.count_nonzero(kmeans.labels_ == 1)"
      ],
      "execution_count": 0,
      "outputs": []
    },
    {
      "cell_type": "code",
      "metadata": {
        "id": "M12XYAxxyDc8",
        "colab_type": "code",
        "colab": {}
      },
      "source": [
        "type2_occurences=np.count_nonzero(kmeans.labels_ == 0)"
      ],
      "execution_count": 0,
      "outputs": []
    },
    {
      "cell_type": "code",
      "metadata": {
        "id": "ouM53QInyqUJ",
        "colab_type": "code",
        "colab": {}
      },
      "source": [
        "total_occurances=len(kmeans.labels_)"
      ],
      "execution_count": 0,
      "outputs": []
    },
    {
      "cell_type": "code",
      "metadata": {
        "id": "cRbDjY-Pygsn",
        "colab_type": "code",
        "colab": {}
      },
      "source": [
        "print(\"Type1 percentage\",(type1_occurrences/total_occurances)*100 ,\"Type2 percentage \",(type2_occurences/total_occurances)*100 )"
      ],
      "execution_count": 0,
      "outputs": []
    },
    {
      "cell_type": "code",
      "metadata": {
        "id": "8b4cPMnZ0IdT",
        "colab_type": "code",
        "colab": {}
      },
      "source": [
        "print(\"Type1 count\",(type1_occurrences) ,\"Type2 count \",(type2_occurences))"
      ],
      "execution_count": 0,
      "outputs": []
    },
    {
      "cell_type": "code",
      "metadata": {
        "id": "oOAX53uY9OcD",
        "colab_type": "code",
        "colab": {}
      },
      "source": [
        "y_means=kmeans.predict(sent_represent)"
      ],
      "execution_count": 0,
      "outputs": []
    },
    {
      "cell_type": "code",
      "metadata": {
        "id": "352gpJRWD0ge",
        "colab_type": "code",
        "colab": {}
      },
      "source": [
        "kmeans.cluster_centers_.shape\n"
      ],
      "execution_count": 0,
      "outputs": []
    },
    {
      "cell_type": "code",
      "metadata": {
        "id": "rWVoNtYK3OSl",
        "colab_type": "code",
        "colab": {}
      },
      "source": [
        "km_tf.shape"
      ],
      "execution_count": 0,
      "outputs": []
    },
    {
      "cell_type": "code",
      "metadata": {
        "id": "_auHhy8M2z5Y",
        "colab_type": "code",
        "colab": {}
      },
      "source": [
        "plt.scatter(km_tf[:,0],km_tf[:,1],c=kmeans.labels_,marker='X')"
      ],
      "execution_count": 0,
      "outputs": []
    },
    {
      "cell_type": "code",
      "metadata": {
        "id": "eJdXxbrC-VKm",
        "colab_type": "code",
        "colab": {}
      },
      "source": [
        "from sklearn import decomposition\n",
        "pca = decomposition.PCA(n_components=2).fit(sent_represent)\n",
        "colors=['red','green','blue'] \n",
        "label_colors=[colors[i] for i in kmeans.labels_]\n",
        "coords=pca.transform(sent_represent)\n",
        "\n",
        "plt.scatter(coords[:,0],coords[:,1],c=label_colors)\n",
        "\n",
        "centroids=kmeans.cluster_centers_\n",
        "centroidcoords=pca.transform(centroids)\n",
        "plt.scatter(centroidcoords[:,0],centroidcoords[:,1],marker='X')\n",
        "plt.show()"
      ],
      "execution_count": 0,
      "outputs": []
    },
    {
      "cell_type": "code",
      "metadata": {
        "colab_type": "code",
        "id": "na2R73mbcSAl",
        "colab": {}
      },
      "source": [
        "from sklearn.cluster import KMeans \n",
        "from sklearn import metrics \n",
        "from scipy.spatial.distance import cdist "
      ],
      "execution_count": 0,
      "outputs": []
    },
    {
      "cell_type": "code",
      "metadata": {
        "id": "4NU3rdJ4MAON",
        "colab_type": "code",
        "colab": {}
      },
      "source": [
        "distortions = [] \n",
        "inertias = [] \n",
        "mapping1 = {} \n",
        "mapping2 = {} \n",
        "K = range(1,50) \n",
        "  \n",
        "for k in K: \n",
        "    #Building and fitting the model \n",
        "    kmeanModel = KMeans(n_clusters=k).fit(sent_represent) \n",
        "    kmeanModel.fit(sent_represent)     \n",
        "      \n",
        "    distortions.append(sum(np.min(cdist(sent_represent, kmeanModel.cluster_centers_, \n",
        "                      'euclidean'),axis=1)) / np.asarray(sent_represent).shape[0]) \n",
        "    inertias.append(kmeanModel.inertia_) \n",
        "  \n",
        "    mapping1[k] = sum(np.min(cdist(sent_represent, kmeanModel.cluster_centers_, \n",
        "                 'euclidean'),axis=1)) / np.asarray( sent_represent).shape[0] \n",
        "    mapping2[k] = kmeanModel.inertia_ "
      ],
      "execution_count": 0,
      "outputs": []
    },
    {
      "cell_type": "code",
      "metadata": {
        "id": "gcM2RsbFOZtB",
        "colab_type": "code",
        "colab": {}
      },
      "source": [
        "plt.plot(K, distortions, 'bx-') \n",
        "plt.xlabel('Values of K') \n",
        "plt.ylabel('Distortion') \n",
        "plt.title('The Elbow Method using Distortion') \n",
        "plt.show() "
      ],
      "execution_count": 0,
      "outputs": []
    }
  ]
}