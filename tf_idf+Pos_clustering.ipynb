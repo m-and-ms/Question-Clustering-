{
  "nbformat": 4,
  "nbformat_minor": 0,
  "metadata": {
    "colab": {
      "name": "tf-idf+Pos_clustering.ipynb",
      "provenance": [],
      "private_outputs": true,
      "collapsed_sections": [],
      "authorship_tag": "ABX9TyNh4oMcY8s515fCRNRslwJY",
      "include_colab_link": true
    },
    "kernelspec": {
      "name": "python3",
      "display_name": "Python 3"
    }
  },
  "cells": [
    {
      "cell_type": "markdown",
      "metadata": {
        "id": "view-in-github",
        "colab_type": "text"
      },
      "source": [
        "<a href=\"https://colab.research.google.com/github/m-and-ms/Question-Clustering-/blob/master/tf_idf%2BPos_clustering.ipynb\" target=\"_parent\"><img src=\"https://colab.research.google.com/assets/colab-badge.svg\" alt=\"Open In Colab\"/></a>"
      ]
    },
    {
      "cell_type": "code",
      "metadata": {
        "id": "3mX__7o3bJqR",
        "colab_type": "code",
        "colab": {}
      },
      "source": [
        "from gensim.models import Word2Vec\n",
        "import numpy as np\n"
      ],
      "execution_count": 0,
      "outputs": []
    },
    {
      "cell_type": "code",
      "metadata": {
        "id": "llfKasLG5WIT",
        "colab_type": "code",
        "colab": {}
      },
      "source": [
        "import pandas as pd"
      ],
      "execution_count": 0,
      "outputs": []
    },
    {
      "cell_type": "code",
      "metadata": {
        "id": "JSu6_9KUDz-u",
        "colab_type": "code",
        "colab": {}
      },
      "source": [
        "Q_df=pd.read_json (r'WebQSP.train.json')\n"
      ],
      "execution_count": 0,
      "outputs": []
    },
    {
      "cell_type": "code",
      "metadata": {
        "id": "8bPvQqzCEJ5F",
        "colab_type": "code",
        "colab": {}
      },
      "source": [
        "Q_df"
      ],
      "execution_count": 0,
      "outputs": []
    },
    {
      "cell_type": "code",
      "metadata": {
        "id": "nZvSI_2_EUa0",
        "colab_type": "code",
        "colab": {}
      },
      "source": [
        "Q_df.columns"
      ],
      "execution_count": 0,
      "outputs": []
    },
    {
      "cell_type": "code",
      "metadata": {
        "id": "lFnhv2B7Er3t",
        "colab_type": "code",
        "colab": {}
      },
      "source": [
        "Q_df['Questions'][1]['ProcessedQuestion']"
      ],
      "execution_count": 0,
      "outputs": []
    },
    {
      "cell_type": "code",
      "metadata": {
        "id": "okz7v0zdGHCE",
        "colab_type": "code",
        "colab": {}
      },
      "source": [
        "num_questions=len(Q_df['Questions'])"
      ],
      "execution_count": 0,
      "outputs": []
    },
    {
      "cell_type": "code",
      "metadata": {
        "id": "gNMiQxyAFUlz",
        "colab_type": "code",
        "colab": {}
      },
      "source": [
        "Sentences_Data=[Q_df['Questions'][idx]['ProcessedQuestion'] for idx in range(num_questions) ]"
      ],
      "execution_count": 0,
      "outputs": []
    },
    {
      "cell_type": "code",
      "metadata": {
        "id": "L0WBnEqmGYRR",
        "colab_type": "code",
        "colab": {}
      },
      "source": [
        "len(Sentences_Data)"
      ],
      "execution_count": 0,
      "outputs": []
    },
    {
      "cell_type": "code",
      "metadata": {
        "id": "e7Chi_0tKdvR",
        "colab_type": "code",
        "colab": {}
      },
      "source": [
        "Sentences_Data"
      ],
      "execution_count": 0,
      "outputs": []
    },
    {
      "cell_type": "code",
      "metadata": {
        "id": "GEgSzLQ-Kr_4",
        "colab_type": "code",
        "colab": {}
      },
      "source": [
        "import re , nltk, pprint"
      ],
      "execution_count": 0,
      "outputs": []
    },
    {
      "cell_type": "code",
      "metadata": {
        "id": "ozb-iXfBLVLK",
        "colab_type": "code",
        "colab": {}
      },
      "source": [
        "\n",
        "from nltk import *\n",
        "from nltk.corpus import stopwords \n",
        "stemmer = nltk.stem.porter.PorterStemmer()\n",
        "\n",
        "nltk.download('stopwords')"
      ],
      "execution_count": 0,
      "outputs": []
    },
    {
      "cell_type": "code",
      "metadata": {
        "id": "OVz7hOWTpgGJ",
        "colab_type": "code",
        "colab": {}
      },
      "source": [
        "stop_words = set(stopwords.words('english')) \n"
      ],
      "execution_count": 0,
      "outputs": []
    },
    {
      "cell_type": "code",
      "metadata": {
        "id": "hpvf-4mGLuky",
        "colab_type": "code",
        "colab": {}
      },
      "source": [
        "nltk.download('punkt')\n",
        "nltk.download('stopwords')\n",
        "nltk.download('wordnet')\n",
        "nltk.download('averaged_perceptron_tagger')"
      ],
      "execution_count": 0,
      "outputs": []
    },
    {
      "cell_type": "code",
      "metadata": {
        "id": "aH_QR7x1nYWi",
        "colab_type": "code",
        "colab": {}
      },
      "source": [
        "def clean_text(sent_list):\n",
        "  cleanr = re.compile('<.*?>|&([0-9]+|#[0-9]{1,6}|#x[0-]{1,6});')\n",
        "  #token_sents = [print(tk)  for sent in token_sents for tk in sent ]\n",
        "\n",
        "  token_sents = [re.sub(cleanr, '', sent)  for sent in sent_list ]\n",
        "  token_sents=[re.sub(\"'\",\"\",sent) for sent in token_sents  ]\n",
        "\n",
        "  token_sents=[sent.strip(\"'\") for sent in token_sents  ]\n",
        "  token_sents=[sent.lower() for sent in token_sents  ]\n",
        "\n",
        "  token_sents =[ word_tokenize(sent)  for sent in token_sents ]  \n",
        "  #token_sents = [w for word_tokens in token_sents for w in word_tokens  if not w in stop_words]  \n",
        "  token_sents = [w for word_tokens in token_sents for w in word_tokens if not w in stop_words] \n",
        "\n",
        "  \n",
        "\n",
        "  return token_sents\n"
      ],
      "execution_count": 0,
      "outputs": []
    },
    {
      "cell_type": "code",
      "metadata": {
        "id": "EIq6GLUToKai",
        "colab_type": "code",
        "colab": {}
      },
      "source": [
        "data_tokens=clean_text(Sentences_Data)"
      ],
      "execution_count": 0,
      "outputs": []
    },
    {
      "cell_type": "code",
      "metadata": {
        "id": "F8UO13kYv--s",
        "colab_type": "code",
        "colab": {}
      },
      "source": [
        "data_tokens"
      ],
      "execution_count": 0,
      "outputs": []
    },
    {
      "cell_type": "code",
      "metadata": {
        "id": "eT5GfAT1P326",
        "colab_type": "code",
        "colab": {}
      },
      "source": [
        "text_tagged = nltk.pos_tag(data_tokens) \n",
        "\n",
        "tagged_tokens = []\n",
        "for word in text_tagged:\n",
        "  tagged_tokens.append(word[0] + \"/\" + word[1])\n",
        "print(tagged_tokens)\n",
        "\n",
        "#  doc = ' '.join(new_text)\n",
        "  "
      ],
      "execution_count": 0,
      "outputs": []
    },
    {
      "cell_type": "code",
      "metadata": {
        "id": "zN3zOCJUktqe",
        "colab_type": "code",
        "colab": {}
      },
      "source": [
        "from sklearn.feature_extraction.text import TfidfTransformer\n",
        "from sklearn.feature_extraction.text import CountVectorizer\n"
      ],
      "execution_count": 0,
      "outputs": []
    },
    {
      "cell_type": "code",
      "metadata": {
        "id": "wEzhGMr_lYcn",
        "colab_type": "code",
        "colab": {}
      },
      "source": [
        "count_vect = CountVectorizer()\n",
        "X_train_counts = count_vect.fit_transform(tagged_tokens)"
      ],
      "execution_count": 0,
      "outputs": []
    },
    {
      "cell_type": "code",
      "metadata": {
        "id": "CHIVKFUGdD65",
        "colab_type": "code",
        "colab": {}
      },
      "source": [
        "tfidf_transformer = TfidfTransformer()\n",
        "tfidf_matrix = tfidf_transformer.fit_transform(X_train_counts)"
      ],
      "execution_count": 0,
      "outputs": []
    },
    {
      "cell_type": "code",
      "metadata": {
        "id": "4kDmzDrtw1zj",
        "colab_type": "code",
        "colab": {}
      },
      "source": [
        "tfidf_matrix.shape"
      ],
      "execution_count": 0,
      "outputs": []
    },
    {
      "cell_type": "code",
      "metadata": {
        "id": "mtspdximwEtC",
        "colab_type": "code",
        "colab": {}
      },
      "source": [
        "word2tfidf = dict(zip(count_vect.get_feature_names(), tfidf_transformer.idf_,))"
      ],
      "execution_count": 0,
      "outputs": []
    },
    {
      "cell_type": "code",
      "metadata": {
        "id": "c-Np7d2oipK0",
        "colab_type": "code",
        "colab": {}
      },
      "source": [
        "from sklearn.cluster import AgglomerativeClustering\n"
      ],
      "execution_count": 0,
      "outputs": []
    },
    {
      "cell_type": "code",
      "metadata": {
        "id": "ZrfF8soKquc1",
        "colab_type": "code",
        "colab": {}
      },
      "source": [
        "cluster = AgglomerativeClustering(n_clusters=2, affinity='euclidean', linkage='ward')\n"
      ],
      "execution_count": 0,
      "outputs": []
    },
    {
      "cell_type": "code",
      "metadata": {
        "id": "n3dNdMhOtM6T",
        "colab_type": "code",
        "colab": {}
      },
      "source": [
        "cluster.fit(tfidf_matrix.toarray())"
      ],
      "execution_count": 0,
      "outputs": []
    },
    {
      "cell_type": "code",
      "metadata": {
        "id": "LBQjlA0ptU6V",
        "colab_type": "code",
        "colab": {}
      },
      "source": [
        "labels = cluster.labels_\n",
        "\n"
      ],
      "execution_count": 0,
      "outputs": []
    },
    {
      "cell_type": "code",
      "metadata": {
        "id": "SaDj7kfcvCY6",
        "colab_type": "code",
        "colab": {}
      },
      "source": [
        "print(labels)"
      ],
      "execution_count": 0,
      "outputs": []
    },
    {
      "cell_type": "code",
      "metadata": {
        "id": "QE1SDti0wJSI",
        "colab_type": "code",
        "colab": {}
      },
      "source": [
        "import matplotlib.pyplot as plt\n",
        " \n",
        "from sklearn.manifold import TSNE"
      ],
      "execution_count": 0,
      "outputs": []
    },
    {
      "cell_type": "code",
      "metadata": {
        "id": "crcDWYYjwSP0",
        "colab_type": "code",
        "colab": {}
      },
      "source": [
        "model = TSNE(n_components=2, random_state=1,metric='euclidean', n_iter=15000)\n"
      ],
      "execution_count": 0,
      "outputs": []
    },
    {
      "cell_type": "code",
      "metadata": {
        "id": "ugoKZ-rWwgbS",
        "colab_type": "code",
        "colab": {}
      },
      "source": [
        "Y=model.fit_transform(tfidf_matrix)\n"
      ],
      "execution_count": 0,
      "outputs": []
    },
    {
      "cell_type": "code",
      "metadata": {
        "id": "DEsdoijkwXpJ",
        "colab_type": "code",
        "colab": {}
      },
      "source": [
        "plt.scatter(Y[:, 0], Y[:, 1], c=labels)"
      ],
      "execution_count": 0,
      "outputs": []
    },
    {
      "cell_type": "code",
      "metadata": {
        "id": "p2fpB6PZ1Zql",
        "colab_type": "code",
        "colab": {}
      },
      "source": [
        "for j in range(len(Sentences_Data)):    \n",
        "   print (\"%s %s\" % (labels[j],  Sentences_Data[j]))"
      ],
      "execution_count": 0,
      "outputs": []
    },
    {
      "cell_type": "code",
      "metadata": {
        "id": "0-MM6qVgEL1N",
        "colab_type": "code",
        "colab": {}
      },
      "source": [
        "from sklearn.cluster import KMeans \n",
        "from sklearn import metrics \n",
        "from scipy.spatial.distance import cdist "
      ],
      "execution_count": 0,
      "outputs": []
    },
    {
      "cell_type": "code",
      "metadata": {
        "id": "yhvG4t31DpQP",
        "colab_type": "code",
        "colab": {}
      },
      "source": [
        "kmeans = KMeans(n_clusters=7, random_state=0).fit(tfidf_matrix)\n",
        "kmeans.labels_\n",
        "km_tf=kmeans.fit_transform(tfidf_matrix)"
      ],
      "execution_count": 0,
      "outputs": []
    },
    {
      "cell_type": "code",
      "metadata": {
        "id": "EKUOBsBpw4yE",
        "colab_type": "code",
        "colab": {}
      },
      "source": [
        "type1_occurrences = np.count_nonzero(kmeans.labels_ == 1)"
      ],
      "execution_count": 0,
      "outputs": []
    },
    {
      "cell_type": "code",
      "metadata": {
        "id": "M12XYAxxyDc8",
        "colab_type": "code",
        "colab": {}
      },
      "source": [
        "type2_occurences=np.count_nonzero(kmeans.labels_ == 0)"
      ],
      "execution_count": 0,
      "outputs": []
    },
    {
      "cell_type": "code",
      "metadata": {
        "id": "rhIDNJZuz0R-",
        "colab_type": "code",
        "colab": {}
      },
      "source": [
        "type3_occurences=np.count_nonzero(kmeans.labels_ == 2)"
      ],
      "execution_count": 0,
      "outputs": []
    },
    {
      "cell_type": "code",
      "metadata": {
        "id": "ouM53QInyqUJ",
        "colab_type": "code",
        "colab": {}
      },
      "source": [
        "total_occurances=len(kmeans.labels_)"
      ],
      "execution_count": 0,
      "outputs": []
    },
    {
      "cell_type": "code",
      "metadata": {
        "id": "cRbDjY-Pygsn",
        "colab_type": "code",
        "colab": {}
      },
      "source": [
        "print(\"Type1 percentage\",(type1_occurrences/total_occurances)*100 ,\"Type2 percentage \",(type2_occurences/total_occurances)*100, \"Type3 percentage \",(type3_occurences/total_occurances)*100)"
      ],
      "execution_count": 0,
      "outputs": []
    },
    {
      "cell_type": "code",
      "metadata": {
        "id": "8b4cPMnZ0IdT",
        "colab_type": "code",
        "colab": {}
      },
      "source": [
        "print(\"Type1 count\",(type1_occurrences) ,\"Type2 count \",(type2_occurences), \"Type3 count \",(type3_occurences))"
      ],
      "execution_count": 0,
      "outputs": []
    },
    {
      "cell_type": "code",
      "metadata": {
        "id": "9jcdUbYsBPCS",
        "colab_type": "code",
        "colab": {}
      },
      "source": [
        "plt.scatter(km_tf[:,0],km_tf[:,1],c=kmeans.labels_,marker='X')"
      ],
      "execution_count": 0,
      "outputs": []
    },
    {
      "cell_type": "code",
      "metadata": {
        "id": "oOAX53uY9OcD",
        "colab_type": "code",
        "colab": {}
      },
      "source": [
        "y_means=kmeans.predict(tfidf_matrix)"
      ],
      "execution_count": 0,
      "outputs": []
    },
    {
      "cell_type": "code",
      "metadata": {
        "id": "352gpJRWD0ge",
        "colab_type": "code",
        "colab": {}
      },
      "source": [
        "kmeans.cluster_centers_.shape\n"
      ],
      "execution_count": 0,
      "outputs": []
    },
    {
      "cell_type": "code",
      "metadata": {
        "colab_type": "code",
        "id": "AMN-LwkT8im_",
        "colab": {}
      },
      "source": [
        "from sklearn import decomposition\n",
        "pca = decomposition.PCA(n_components=7).fit(tfidf_matrix.toarray())\n",
        "colors=['red','green','blue','yellow','black','orange','brown'] \n",
        "label_colors=[colors[i] for i in kmeans.labels_]\n",
        "coords=pca.transform(tfidf_matrix.toarray())\n",
        "\n",
        "plt.scatter(coords[:,0],coords[:,1],c=label_colors)\n",
        "\n",
        "centroids=kmeans.cluster_centers_\n",
        "centroidcoords=pca.transform(centroids)\n",
        "plt.scatter(centroidcoords[:,0],centroidcoords[:,1],marker='X')\n",
        "plt.show()"
      ],
      "execution_count": 0,
      "outputs": []
    },
    {
      "cell_type": "code",
      "metadata": {
        "id": "jnIRE_1WZox4",
        "colab_type": "code",
        "colab": {}
      },
      "source": [
        "from sklearn.cluster import KMeans \n",
        "from sklearn import metrics \n",
        "from scipy.spatial.distance import cdist \n",
        "\n",
        "distortions = [] \n",
        "inertias = [] \n",
        "mapping1 = {} \n",
        "mapping2 = {} \n",
        "K = range(1,10) \n",
        "  \n",
        "for k in K: \n",
        "    #Building and fitting the model \n",
        "    kmeanModel = KMeans(n_clusters=k).fit(tfidf_matrix.toarray()) \n",
        "    kmeanModel.fit(tfidf_matrix.toarray())     \n",
        "      \n",
        "    distortions.append(sum(np.min(cdist(tfidf_matrix.toarray(), kmeanModel.cluster_centers_, \n",
        "                      'euclidean'),axis=1)) / np.asarray(tfidf_matrix.toarray()).shape[0]) \n",
        "    inertias.append(kmeanModel.inertia_) \n",
        "  \n",
        "    mapping1[k] = sum(np.min(cdist(tfidf_matrix.toarray(), kmeanModel.cluster_centers_, \n",
        "                 'euclidean'),axis=1)) / np.asarray( tfidf_matrix.toarray()).shape[0] \n",
        "    mapping2[k] = kmeanModel.inertia_ \n",
        "\n",
        "plt.plot(K, distortions, 'bx-') \n",
        "plt.xlabel('Values of K') \n",
        "plt.ylabel('Distortion') \n",
        "plt.title('The Elbow Method using Distortion') \n",
        "plt.show() "
      ],
      "execution_count": 0,
      "outputs": []
    }
  ]
}